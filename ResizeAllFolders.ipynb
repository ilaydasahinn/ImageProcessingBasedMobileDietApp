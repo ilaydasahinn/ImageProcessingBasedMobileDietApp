{
  "nbformat": 4,
  "nbformat_minor": 0,
  "metadata": {
    "colab": {
      "name": "Untitled7.ipynb",
      "provenance": [],
      "collapsed_sections": [],
      "include_colab_link": true
    },
    "kernelspec": {
      "display_name": "Python 3",
      "name": "python3"
    }
  },
  "cells": [
    {
      "cell_type": "markdown",
      "metadata": {
        "id": "view-in-github",
        "colab_type": "text"
      },
      "source": [
        "<a href=\"https://colab.research.google.com/github/ilaydasahinn/ImageProcessingBasedMobileDietApp/blob/master/ResizeAllFolders.ipynb\" target=\"_parent\"><img src=\"https://colab.research.google.com/assets/colab-badge.svg\" alt=\"Open In Colab\"/></a>"
      ]
    },
    {
      "cell_type": "code",
      "metadata": {
        "id": "Xi43WufjR4V6"
      },
      "source": [
        "import cv2\n",
        "import glob\n",
        "import os\n",
        "from google.colab import drive"
      ],
      "execution_count": 1,
      "outputs": []
    },
    {
      "cell_type": "code",
      "metadata": {
        "id": "ljM2k6a6SeVS",
        "outputId": "6a5e6424-0711-442f-b516-fb92d0ae7fac",
        "colab": {
          "base_uri": "https://localhost:8080/"
        }
      },
      "source": [
        "drive.mount('/content/drive', force_remount=True)"
      ],
      "execution_count": 2,
      "outputs": [
        {
          "output_type": "stream",
          "text": [
            "Mounted at /content/drive\n"
          ],
          "name": "stdout"
        }
      ]
    },
    {
      "cell_type": "code",
      "metadata": {
        "id": "z3EgyEPcYYo5",
        "outputId": "00052933-d887-49c5-b980-798347e2e010",
        "colab": {
          "base_uri": "https://localhost:8080/"
        }
      },
      "source": [
        "def replace_all(text, dic):\n",
        "    for i, j in dic.items():\n",
        "        text = text.replace(i, j)\n",
        "    return text\n",
        "\n",
        "\n",
        "def tr2en(trText):\n",
        "  tr2enList = { \"ı\": \"i\", \"ö\": \"o\", \"Ö\": \"O\", \"Ç\": \"C\", \"ç\": \"c\", \"İ\": \"I\", \"ğ\": \"g\", \"Ğ\": \"G\", \"Ü\": \"U\", \"ü\": \"u\", \"ş\": \"s\", \"Ş\": \"S\"}\n",
        "  return replace_all(trText, tr2enList)\n",
        "\n",
        "print(tr2en(\"ööÖÖIIŞŞşşÇÇççĞĞğğÜÜüü\"))"
      ],
      "execution_count": 4,
      "outputs": [
        {
          "output_type": "stream",
          "text": [
            "ooOOIISSssCCccGGggUUuu\n"
          ],
          "name": "stdout"
        }
      ]
    },
    {
      "cell_type": "code",
      "metadata": {
        "id": "rNEhwg85TRjh",
        "outputId": "040a8ac9-0710-458c-f937-56bea3c3abeb",
        "colab": {
          "base_uri": "https://localhost:8080/"
        }
      },
      "source": [
        "folderArray = [ \"patates-salatası\", \"mercimek-çorbası\", \"sucuklu-yumurta\", \"mercimek-köftesi\", \"kısır\",\n",
        "               \"pırasa\", \"menemen\", \"domates-çorbası\", \"patates-püresi\", \"sulu-barbunya-yemeği\", \n",
        "               \"sulu-kuru-fasülye-yemeği\", \"sulu-bezelye-yemeği\", \"tarhana-çorbası\", \"yayla-çorbası\",\n",
        "               \"sulu-patates-yemeği\", \"sulu-bamya-yemeği\", \"sulu-mercimek-yemeği\", \"sulu-nohut-yemeği\",\n",
        "               \"şehriye-çorbası\", \"çoban-salatası\", \"zeytinyağlı-fasülye\", \"biber-dolma\", \"yaprak-sarma\",\n",
        "               \"çiğ-köfte\", \"karnıyarık\", \"ıspanak-yemeği\", \"mantı\", \"anne-köftesi\", \"içli-köfte\", \"döner\",\n",
        "               \"çanak-enginar\", \"cacık\", \"sandviç\", \"adana-kebap\", \"bulgur-pilavı\", \"lahmacun\", \"mumbar-dolması\",\n",
        "               \"iskender\", \"omlet\", \"kıymalı-pide\", \"çipura\", \"tas-kebabı\", \"patlıcan-kebabı\", \"kokoreç\",\n",
        "               \"tantuni\", \"yoğurt\", \"brüksel-lahanası\", \"beyaz-lahana-sarması\", \"karnabahar\", \"levrek\",\n",
        "               \"haşlanmış-yumurta\", \"kabak-mücver\", \"türk-kahvesi\", \"hünkar-beğendi\", \"pilav\", \"midye-dolma\",\n",
        "               \"yoğurtlu-makarna\", \"salçalı-makarna\", \"kıymalı-börek\", \"peynirli-börek\", \"midye-tava\", \"çilek\",\n",
        "               \"avakado\", \"karpuz\", \"muz\", \"kivi\", \"armut\", \"incir\", \"nar\", \"şeftali\", \"üzüm\", \"portakal\", \"mango\",\n",
        "               \"elma\", \"salatalık\", \"erik\", \"kiraz\", \"kavun\", \"domates\", \"brokoli\" \"havuç\", \"kayısı\", \"ekmek\", \n",
        "               \"baklava\", \"sütlaç\", \"tulumba-tatlısı\", \"kazandibi\", \"kalburabastı\", \"kemal-paşa-tatlısı\", \n",
        "               \"tavuk-sote\", \"dondurma\", \"patates-kızartması\", \"çay\", \"yeşil-zeytin\", \"siyah-zeytin\", \"ayran\",\n",
        "               \"et-sote\", \"hamsi-tava\", \"su-böreği\", \"lokma\", \"sahlep\", \"turşu\" ]\n",
        "for j in folderArray:\n",
        "  i = 0\n",
        "  jtr = tr2en(j)\n",
        "  print(jtr)\n",
        "  os.mkdir('drive/My Drive/DietApp/TestResized/' + jtr)\n",
        "  for img in glob.glob('drive/My Drive/DietApp/ProjectDataset/'+ j +'/*'):\n",
        "    try:\n",
        "      image = cv2.imread(img)\n",
        "      imgResized = cv2.resize(image, (256,256))\n",
        "      cv2.imwrite('drive/My Drive/DietApp/TestResized/'+ jtr +'/'+ jtr +'%04i.jpg' %i, imgResized)\n",
        "    except:\n",
        "      os.remove(img)\n",
        "    i += 1"
      ],
      "execution_count": 6,
      "outputs": [
        {
          "output_type": "stream",
          "text": [
            "brokoli\n",
            "havuc\n"
          ],
          "name": "stdout"
        }
      ]
    },
    {
      "cell_type": "code",
      "metadata": {
        "id": "DveJaUm6fiHJ",
        "outputId": "68f77486-2629-4df6-fe7d-a0511b2db9c8",
        "colab": {
          "base_uri": "https://localhost:8080/"
        }
      },
      "source": [
        "for i in os.listdir(\"drive/My Drive/DietApp/Resized/\"):\n",
        "  try:\n",
        "    os.mkdir('drive/My Drive/DietApp/TestResized/' + i)\n",
        "  except:\n",
        "    print(i)"
      ],
      "execution_count": null,
      "outputs": [
        {
          "output_type": "stream",
          "text": [
            "baklava\n",
            "coban-salatasi\n",
            "menemen\n",
            "mercimek-corbasi\n",
            "patates-puresi\n",
            "mercimek-koftesi\n",
            "kisir\n",
            "domates-corbasi\n",
            "pilav\n",
            "pirasa\n",
            "bamya\n",
            "nohut\n",
            "brokoli\n",
            "sulu-patates-yemegi\n",
            "sulu-mercimek-yemegi\n",
            "erik\n",
            "kavun\n",
            "kiraz\n",
            "kayisi\n",
            "domates\n",
            "havuc\n"
          ],
          "name": "stdout"
        }
      ]
    },
    {
      "cell_type": "code",
      "metadata": {
        "id": "bUy_Vwfx-bWh"
      },
      "source": [
        ""
      ],
      "execution_count": null,
      "outputs": []
    }
  ]
}